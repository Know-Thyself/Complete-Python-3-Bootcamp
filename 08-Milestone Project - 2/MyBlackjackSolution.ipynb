{
 "cells": [
  {
   "cell_type": "markdown",
   "id": "7f94744b",
   "metadata": {},
   "source": [
    "\n",
    "## Class Objects Definition<br>"
   ]
  },
  {
   "cell_type": "code",
   "execution_count": null,
   "id": "2f088048",
   "metadata": {},
   "outputs": [],
   "source": [
    "import random\n",
    "\n",
    "suits = ('Hearts', 'Diamonds', 'Spades', 'Clubs')\n",
    "ranks = ('Two', 'Three', 'Four', 'Five', 'Six', 'Seven', 'Eight', 'Nine', 'Ten', 'Jack', 'Queen', 'King', 'Ace')\n",
    "values = {'Two': 2, 'Three': 3, 'Four': 4, 'Five': 5, 'Six': 6, 'Seven': 7, 'Eight': 8, 'Nine': 9, 'Ten': 10,\n",
    "          'Jack': 10, 'Queen': 10, 'King': 10, 'Ace': 11}\n",
    "\n",
    "\n",
    "class Card:\n",
    "    def __init__(self, suit, rank):\n",
    "        self.suit = suit\n",
    "        self.rank = rank\n",
    "        self.value = values[rank]\n",
    "\n",
    "    def __str__(self):\n",
    "        return f'{self.rank} of {self.suit}'\n"
   ]
  },
  {
   "cell_type": "code",
   "execution_count": null,
   "id": "d8b355bc",
   "metadata": {},
   "outputs": [],
   "source": [
    "class Deck:\n",
    "    def __init__(self):\n",
    "        self.deck = []\n",
    "        for rank in ranks:\n",
    "            for suit in suits:\n",
    "                card = Card(suit, rank)\n",
    "                self.deck.append(card)\n",
    "\n",
    "    def __str__(self):\n",
    "        deck_comp = ''\n",
    "        for card in self.deck:\n",
    "            deck_comp + '\\n' + card.__str__()\n",
    "        return deck_comp\n",
    "\n",
    "    def shuffle(self):\n",
    "        random.shuffle(self.deck)\n",
    "\n",
    "    def deal(self):\n",
    "        cards = []\n",
    "        for _ in range(2):\n",
    "            cards.append(self.deck.pop())\n",
    "        return cards\n",
    "\n",
    "    def hit(self):\n",
    "        return self.deck.pop()\n",
    "\n",
    "    def reset(self):\n",
    "        self.__init__()\n",
    "        "
   ]
  },
  {
   "cell_type": "code",
   "execution_count": null,
   "id": "327465e4",
   "metadata": {},
   "outputs": [],
   "source": [
    "class Hand:\n",
    "    def __init__(self):\n",
    "        self.cards = []\n",
    "        self.value = 0\n",
    "        self.aces = 0\n",
    "\n",
    "    def add_card(self, card):\n",
    "        self.cards.append(card)\n",
    "        self.value += values[card.rank]\n",
    "        for card in self.cards:\n",
    "            if card.rank == 'Ace':\n",
    "                self.aces += 1\n",
    "\n",
    "    def __str__(self):\n",
    "        card_comp = ''\n",
    "        for card in self.cards:\n",
    "            card_comp += '\\n' + card.__str__()\n",
    "        return card_comp\n",
    "\n",
    "    def adjust_for_ace(self):\n",
    "        while self.value > 21 and self.aces:\n",
    "            self.value -= 10\n",
    "            self.aces -= 1\n",
    "\n",
    "    def reset(self):\n",
    "        self.__init__()\n",
    "        "
   ]
  },
  {
   "cell_type": "code",
   "execution_count": null,
   "id": "b10de6cf",
   "metadata": {},
   "outputs": [],
   "source": [
    "class Chips:\n",
    "    def __init__(self):\n",
    "        self.total = 100  # This can be set to a default value or supplied by a user input\n",
    "        self.bet = 0\n",
    "\n",
    "    def place_bet(self, bet):\n",
    "        self.bet += bet\n",
    "\n",
    "    def win_bet(self):\n",
    "        self.total += self.bet\n",
    "\n",
    "    def lose_bet(self):\n",
    "        self.total -= self.bet\n",
    "        "
   ]
  },
  {
   "cell_type": "markdown",
   "id": "d54f0be0",
   "metadata": {},
   "source": [
    "## Blackjack Game Function Definitions"
   ]
  },
  {
   "cell_type": "markdown",
   "id": "4bc1d122",
   "metadata": {},
   "source": [
    "### Initial Setup"
   ]
  },
  {
   "cell_type": "code",
   "execution_count": null,
   "id": "fbeb6074",
   "metadata": {},
   "outputs": [],
   "source": [
    "deck_of_cards = Deck()\n",
    "deck_of_cards.shuffle()\n",
    "user = Hand()\n",
    "computer = Hand()\n",
    "chips = Chips()\n",
    "\n",
    "\n",
    "def take_bet():\n",
    "    try:\n",
    "        bet = int(input('Please enter your bet in number: '))\n",
    "    except ValueError:\n",
    "        print('Please make sure to enter a valid number.')\n",
    "        take_bet()\n",
    "    else:\n",
    "        chips.place_bet(bet)\n",
    "\n",
    "\n",
    "def new_game_setup():\n",
    "    print('\\nWelcome to Blackjack! \\n')\n",
    "    take_bet()\n",
    "    for _ in range(2):\n",
    "        dealt_cards = deck_of_cards.deal()\n",
    "        user.add_card(dealt_cards[0])\n",
    "        computer.add_card(dealt_cards[1])\n",
    "    print(f'Computer has {computer.cards[-1]} and one more card')\n",
    "    print(f'You have {user.cards[0]} and {user.cards[1]}')\n",
    "    print(f'Your cards\\' sum is: {user.value}')\n",
    "    start_playing()\n",
    "    "
   ]
  },
  {
   "cell_type": "markdown",
   "id": "f31c364d",
   "metadata": {},
   "source": [
    "### Game logics"
   ]
  },
  {
   "cell_type": "code",
   "execution_count": null,
   "id": "bcda16d9",
   "metadata": {},
   "outputs": [],
   "source": [
    "def start_playing():\n",
    "    while True:\n",
    "        if check_for_blackjack():\n",
    "            break\n",
    "        user.adjust_for_ace()\n",
    "        computer.adjust_for_ace()\n",
    "        user_choice = input('Enter h for hit or s for stand: ')\n",
    "        if user_choice == 'h':\n",
    "            hit_or_stand('hit', user)\n",
    "            if user.value > 21:\n",
    "                find_out_the_winner()\n",
    "                break\n",
    "        else:\n",
    "            hit_or_stand('stand', user)\n",
    "            while computer.value < 17:\n",
    "                hit_or_stand('hit', computer)\n",
    "            else:\n",
    "                hit_or_stand('stand', computer)\n",
    "                break\n",
    "\n",
    "\n",
    "def hit_or_stand(choice, player):\n",
    "    match choice:\n",
    "        case 'hit':\n",
    "            player.add_card(deck_of_cards.hit())\n",
    "            if player == user:\n",
    "                print(f'Your cards are: \\n{user}')\n",
    "                print(f'Your new total is: {player.value}')\n",
    "        case 'stand':\n",
    "            if player == computer:\n",
    "                print(f'Computer\\'s cards are: \\n{computer}')\n",
    "                print(f'Computer\\'s new total is: {player.value}')\n",
    "                find_out_the_winner()\n",
    "                "
   ]
  },
  {
   "cell_type": "markdown",
   "id": "2bd4bef1",
   "metadata": {},
   "source": [
    "### Finding out the Winner"
   ]
  },
  {
   "cell_type": "code",
   "execution_count": null,
   "id": "04eed77e",
   "metadata": {},
   "outputs": [],
   "source": [
    "def check_for_blackjack():\n",
    "    if computer.value == 21:\n",
    "        print(f'Computer wins with a blackjack: {computer.value}')\n",
    "        chips.lose_bet()\n",
    "        print(f'Total chips => {chips.total}')\n",
    "        reset()\n",
    "        return True\n",
    "    elif user.value == 21:\n",
    "        print(f'You win with a blackjack: {user.value}')\n",
    "        chips.win_bet()\n",
    "        print(f'Total chips => {chips.total}')\n",
    "        reset()\n",
    "        return True\n",
    "\n",
    "\n",
    "def find_out_the_winner():\n",
    "    if computer.value > 21:\n",
    "        print(f'Computer busts. It has a total of {computer.value} You win!')\n",
    "        chips.win_bet()\n",
    "        print(f'Total chips => {chips.total}')\n",
    "    elif user.value > 21:\n",
    "        print(f'Computer wins! You went over 21. Your total was {user.value}')\n",
    "        chips.lose_bet()\n",
    "        print(f'Total chips => {chips.total}')\n",
    "    elif computer.value > user.value:\n",
    "        print(f'Computer wins {computer.value} to {user.value}')\n",
    "        chips.lose_bet()\n",
    "        print(f'Total chips => {chips.total}')\n",
    "    elif user.value > computer.value:\n",
    "        print(f'You win {user.value} to {computer.value}')\n",
    "        chips.win_bet()\n",
    "        print(f'Total chips => {chips.total}')\n",
    "    else:\n",
    "        print('It is a tie!')\n",
    "    reset()\n",
    "    "
   ]
  },
  {
   "cell_type": "markdown",
   "id": "b02c086b",
   "metadata": {},
   "source": [
    "### Resetting and Restarting the Game"
   ]
  },
  {
   "cell_type": "code",
   "execution_count": null,
   "id": "87385c41",
   "metadata": {},
   "outputs": [],
   "source": [
    "def reset():\n",
    "    play_again = input('Would you like to play again? (y/n): ')\n",
    "    if play_again == 'y':\n",
    "        user.reset()\n",
    "        computer.reset()\n",
    "        chips.bet = 0\n",
    "        deck_of_cards.reset()\n",
    "        deck_of_cards.shuffle()\n",
    "        new_game_setup()\n",
    "\n",
    "new_game_setup()"
   ]
  }
 ],
 "metadata": {
  "kernelspec": {
   "display_name": "Python 3 (ipykernel)",
   "language": "python",
   "name": "python3"
  },
  "language_info": {
   "codemirror_mode": {
    "name": "ipython",
    "version": 3
   },
   "file_extension": ".py",
   "mimetype": "text/x-python",
   "name": "python",
   "nbconvert_exporter": "python",
   "pygments_lexer": "ipython3",
   "version": "3.10.9"
  }
 },
 "nbformat": 4,
 "nbformat_minor": 5
}
