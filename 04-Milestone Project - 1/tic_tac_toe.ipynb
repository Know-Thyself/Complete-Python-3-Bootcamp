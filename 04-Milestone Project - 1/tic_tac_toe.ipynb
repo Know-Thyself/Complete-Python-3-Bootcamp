{
 "cells": [
  {
   "cell_type": "code",
   "execution_count": null,
   "id": "a1274793",
   "metadata": {},
   "outputs": [],
   "source": [
    "# Global variable\n",
    "current_board = [' '] * 10\n",
    "\n",
    "\n",
    "def welcome_display():\n",
    "    board_chars = ['#', 'X', 'O', 'X', 'O', 'X', 'O', 'X', 'O', 'X']\n",
    "    print('Welcome to Tic Tac Toe Board Game!')\n",
    "    display_board(board_chars)\n",
    "    game_setup(current_board)"
   ]
  },
  {
   "cell_type": "code",
   "execution_count": null,
   "id": "b52b70a4",
   "metadata": {},
   "outputs": [],
   "source": [
    "def game_setup(board):\n",
    "    print('Current Board:')\n",
    "    display_board(board)\n",
    "    player_input()"
   ]
  },
  {
   "cell_type": "code",
   "execution_count": null,
   "id": "f397ad8e",
   "metadata": {},
   "outputs": [],
   "source": [
    "def display_board(board):\n",
    "    rows = [board[1:4], board[4:7], board[7:]]\n",
    "    list(map(display_row, rows))\n",
    "\n",
    "\n",
    "def display_row(row):\n",
    "    for index, item in enumerate(row):\n",
    "        if index == 0:\n",
    "            print('|' + item + '|', end=\"\")\n",
    "        elif index == 1:\n",
    "            print(item + '|', end=\"\")\n",
    "        else:\n",
    "            print(item + '|')"
   ]
  },
  {
   "cell_type": "code",
   "execution_count": null,
   "id": "f6a1a855",
   "metadata": {},
   "outputs": [],
   "source": [
    "def player_input():\n",
    "    global current_board\n",
    "    # Player one gets to choose marker\n",
    "    player_one, player_two = validate_player_marker()\n",
    "    # Player two gets to make the first move\n",
    "    player_two_position = validate_players_move(player_two)\n",
    "    current_board[player_two_position] = player_two\n",
    "    display_board(current_board)\n",
    "    next_player(player_one)"
   ]
  },
  {
   "cell_type": "code",
   "execution_count": null,
   "id": "a6569b21",
   "metadata": {},
   "outputs": [],
   "source": [
    "def validate_player_marker():\n",
    "    player_one = ''\n",
    "    player_two = ''\n",
    "    while player_one not in ['X', 'O']:\n",
    "        player_one = input('Please enter \"X\" or \"O\" as your marker: ').upper()\n",
    "        if player_one == 'X':\n",
    "            player_two = 'O'\n",
    "        else:\n",
    "            player_two = 'X'\n",
    "    return player_one, player_two"
   ]
  },
  {
   "cell_type": "code",
   "execution_count": null,
   "id": "a3a40716",
   "metadata": {},
   "outputs": [],
   "source": [
    "def validate_players_move(player):\n",
    "    player_position = 'Not a number'\n",
    "    while player_position not in range(1, 10):\n",
    "        player_position = input(\n",
    "            f'You are {player}. Please chose your position (1 - 9): ')\n",
    "        if player_position.isnumeric():\n",
    "            player_position = int(player_position)\n",
    "    return player_position"
   ]
  },
  {
   "cell_type": "code",
   "execution_count": null,
   "id": "d5d528dd",
   "metadata": {},
   "outputs": [],
   "source": [
    "def next_player(player):\n",
    "    global current_board\n",
    "    player_position = validate_players_move(player)\n",
    "    current_board[player_position] = player\n",
    "    display_board(current_board)\n",
    "    game_status(player)"
   ]
  },
  {
   "cell_type": "code",
   "execution_count": null,
   "id": "7b2889b5",
   "metadata": {},
   "outputs": [],
   "source": [
    "def game_status(player):\n",
    "    global current_board\n",
    "    # Check if either vertical, horizontal or diagonal lines values are identical\n",
    "    if does_win(current_board[1:4]) \\\n",
    "            or does_win(current_board[4:7]) \\\n",
    "            or does_win(current_board[7:]) \\\n",
    "            or does_win(current_board[1:8:3]) \\\n",
    "            or does_win(current_board[2:9:3]) \\\n",
    "            or does_win(current_board[3::3]) \\\n",
    "            or does_win(current_board[1::4]) \\\n",
    "            or does_win(current_board[3:8:2]):\n",
    "        print(f'Player {player} wins!')\n",
    "        play_again = input('Enter \"Y\" to play again or \"N\" to exit: ').lower()\n",
    "        if play_again == 'y':\n",
    "            reset()\n",
    "    elif ' ' not in current_board[1:]:\n",
    "        print(\"It's a cat's game! No one wins.\")\n",
    "        play_again = input('Enter \"Y\" to play again or \"N\" to exit: ').lower()\n",
    "        if play_again == 'y':\n",
    "            reset()\n",
    "    else:\n",
    "        if player == 'X':\n",
    "            next_player('O')\n",
    "        else:\n",
    "            next_player('X')"
   ]
  },
  {
   "cell_type": "code",
   "execution_count": null,
   "id": "8253cc11",
   "metadata": {},
   "outputs": [],
   "source": [
    "def does_win(lst):\n",
    "    \"\"\"\n",
    "    Takes in a list and checks if all values in a list are identical\n",
    "    :param lst:\n",
    "    :return: bool\n",
    "    \"\"\"\n",
    "    if lst[0] != ' ':\n",
    "        return all(i == lst[0] for i in lst)\n",
    "    else:\n",
    "        return False"
   ]
  },
  {
   "cell_type": "code",
   "execution_count": null,
   "id": "b9b4a033",
   "metadata": {},
   "outputs": [],
   "source": [
    "def reset():\n",
    "    global current_board\n",
    "    current_board = [' '] * 10\n",
    "    game_setup(current_board)"
   ]
  },
  {
   "cell_type": "code",
   "execution_count": null,
   "id": "8034f744",
   "metadata": {},
   "outputs": [],
   "source": [
    "if __name__ == '__main__':\n",
    "    welcome_display()"
   ]
  },
  {
   "cell_type": "code",
   "execution_count": null,
   "id": "eef5fd45",
   "metadata": {},
   "outputs": [],
   "source": []
  }
 ],
 "metadata": {
  "kernelspec": {
   "display_name": "Python 3 (ipykernel)",
   "language": "python",
   "name": "python3"
  },
  "language_info": {
   "codemirror_mode": {
    "name": "ipython",
    "version": 3
   },
   "file_extension": ".py",
   "mimetype": "text/x-python",
   "name": "python",
   "nbconvert_exporter": "python",
   "pygments_lexer": "ipython3",
   "version": "3.10.9"
  }
 },
 "nbformat": 4,
 "nbformat_minor": 5
}
